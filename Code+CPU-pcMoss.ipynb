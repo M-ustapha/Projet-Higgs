{
 "cells": [
  {
   "cell_type": "code",
   "execution_count": 48,
   "metadata": {},
   "outputs": [],
   "source": [
    "import time\n",
    "import pandas as pd\n",
    "from pyspark.sql import SparkSession\n",
    "from pyspark.sql.functions import col\n",
    "from pyspark.ml.feature import VectorAssembler\n",
    "from pyspark.ml.classification import RandomForestClassifier, LogisticRegression, GBTClassifier\n",
    "from pyspark.ml.evaluation import BinaryClassificationEvaluator, MulticlassClassificationEvaluator\n"
   ]
  },
  {
   "cell_type": "markdown",
   "metadata": {},
   "source": [
    "## Fonction pour initialiser une session Spark avec un nombre défini de CPU"
   ]
  },
  {
   "cell_type": "code",
   "execution_count": 49,
   "metadata": {},
   "outputs": [],
   "source": [
    "def init_spark(num_cores):\n",
    "    spark = SparkSession.builder \\\n",
    "        .appName(\"HiggsBosonClassification\") \\\n",
    "        .config(\"spark.executor.memory\", \"6g\") \\\n",
    "        .config(\"spark.driver.memory\", \"6g\") \\\n",
    "        .config(\"spark.sql.shuffle.partitions\", str(num_cores * 2)) \\\n",
    "        .config(\"spark.default.parallelism\", str(num_cores * 2)) \\\n",
    "        .config(\"spark.executor.instances\", \"1\") \\\n",
    "        .config(\"spark.executor.cores\", num_cores) \\\n",
    "        .config(\"spark.driver.cores\", num_cores) \\\n",
    "        .getOrCreate()\n",
    "    return spark\n"
   ]
  },
  {
   "cell_type": "markdown",
   "metadata": {},
   "source": [
    "## Fonction pour charger les données"
   ]
  },
  {
   "cell_type": "code",
   "execution_count": 50,
   "metadata": {},
   "outputs": [],
   "source": [
    "def load_data(spark, train_path, test_path):\n",
    "    train_df = spark.read.csv(train_path, header=False, inferSchema=True)\n",
    "    test_df = spark.read.csv(test_path, header=False, inferSchema=True)\n",
    "    return train_df, test_df\n"
   ]
  },
  {
   "cell_type": "markdown",
   "metadata": {},
   "source": [
    "## Fonction pour renommer les colonnes et sélectionner les 21 premières caractéristiques"
   ]
  },
  {
   "cell_type": "code",
   "execution_count": 51,
   "metadata": {},
   "outputs": [],
   "source": [
    "def preprocess_data(train_df, test_df):\n",
    "    col_names = [\"label\"] + [f\"feature_{i}\" for i in range(1, 29)]\n",
    "    train_df = train_df.toDF(*col_names)\n",
    "    test_df = test_df.toDF(*col_names)\n",
    "\n",
    "    # Sélectionner uniquement les 21 premières caractéristiques\n",
    "    selected_features = [f\"feature_{i}\" for i in range(1, 22)]\n",
    "    assembler = VectorAssembler(inputCols=selected_features, outputCol=\"features\")\n",
    "\n",
    "    train_df = assembler.transform(train_df).select(\"features\", \"label\")\n",
    "    test_df = assembler.transform(test_df).select(\"features\", \"label\")\n",
    "    \n",
    "    return train_df, test_df"
   ]
  },
  {
   "cell_type": "markdown",
   "metadata": {},
   "source": [
    "## Fonction pour séparer les données en train/validation"
   ]
  },
  {
   "cell_type": "code",
   "execution_count": 52,
   "metadata": {},
   "outputs": [],
   "source": [
    "def split_data(train_df):\n",
    "    train_data, val_data = train_df.randomSplit([0.8, 0.2], seed=42)\n",
    "    return train_data, val_data"
   ]
  },
  {
   "cell_type": "markdown",
   "metadata": {},
   "source": [
    "## Fonction pour entraîner un modèle et mesurer son temps d'entraînement"
   ]
  },
  {
   "cell_type": "code",
   "execution_count": 53,
   "metadata": {},
   "outputs": [],
   "source": [
    "def train_model(model, train_data):\n",
    "    start_time = time.time()\n",
    "    trained_model = model.fit(train_data)\n",
    "    end_time = time.time()\n",
    "    training_time = round(end_time - start_time, 2)\n",
    "    return trained_model, training_time"
   ]
  },
  {
   "cell_type": "markdown",
   "metadata": {},
   "source": [
    "## Fonction pour évaluer un modèle avec AUC et Accuracy"
   ]
  },
  {
   "cell_type": "code",
   "execution_count": 54,
   "metadata": {},
   "outputs": [],
   "source": [
    "def evaluate_model(model, val_data):\n",
    "    evaluator_auc = BinaryClassificationEvaluator(labelCol=\"label\", metricName=\"areaUnderROC\")\n",
    "    evaluator_accuracy = MulticlassClassificationEvaluator(labelCol=\"label\", metricName=\"accuracy\")\n",
    "\n",
    "    predictions = model.transform(val_data)\n",
    "    auc = round(evaluator_auc.evaluate(predictions), 4)\n",
    "    accuracy = round(evaluator_accuracy.evaluate(predictions), 4)\n",
    "    \n",
    "    return auc, accuracy"
   ]
  },
  {
   "cell_type": "markdown",
   "metadata": {},
   "source": [
    "## Fonction principale pour exécuter l'entraînement et tester avec différents CPU\n"
   ]
  },
  {
   "cell_type": "code",
   "execution_count": 55,
   "metadata": {},
   "outputs": [],
   "source": [
    "def run_experiment(train_path, test_path, cpu_tests):\n",
    "    results = []\n",
    "\n",
    "    for num_cores in cpu_tests:\n",
    "        print(f\"\\n🔹 Test avec {num_cores} CPU cores...\")\n",
    "\n",
    "        # Initialisation de Spark\n",
    "        spark = init_spark(num_cores)\n",
    "\n",
    "        # Chargement des données\n",
    "        train_df, test_df = load_data(spark, train_path, test_path)\n",
    "\n",
    "        # Prétraitement\n",
    "        train_df, test_df = preprocess_data(train_df, test_df)\n",
    "\n",
    "        # Séparation en train/validation\n",
    "        train_data, val_data = split_data(train_df)\n",
    "\n",
    "        # Définition des modèles\n",
    "        models = {\n",
    "            \"RandomForest\": RandomForestClassifier(labelCol=\"label\", featuresCol=\"features\", numTrees=50),\n",
    "            \"LogisticRegression\": LogisticRegression(labelCol=\"label\", featuresCol=\"features\", maxIter=20),\n",
    "            \"GBT\": GBTClassifier(labelCol=\"label\", featuresCol=\"features\", maxIter=50)\n",
    "        }\n",
    "\n",
    "        # Entraîner et évaluer chaque modèle\n",
    "        model_results = {}\n",
    "        for model_name, model in models.items():\n",
    "            trained_model, training_time = train_model(model, train_data)\n",
    "            auc, accuracy = evaluate_model(trained_model, val_data)\n",
    "\n",
    "            model_results[model_name] = {\n",
    "                \"AUC\": auc,\n",
    "                \"Accuracy\": accuracy,\n",
    "                \"Training Time (s)\": training_time,\n",
    "            }\n",
    "\n",
    "        # Ajouter les résultats pour ce test CPU\n",
    "        results.append({\"CPU Cores\": num_cores, \"Models\": model_results})\n",
    "\n",
    "        # Arrêter Spark pour libérer la mémoire\n",
    "        spark.stop()\n",
    "\n",
    "    return results"
   ]
  },
  {
   "cell_type": "markdown",
   "metadata": {},
   "source": [
    "## Fonction pour afficher les résultats sous forme de DataFrame"
   ]
  },
  {
   "cell_type": "code",
   "execution_count": 56,
   "metadata": {},
   "outputs": [
    {
     "name": "stdout",
     "output_type": "stream",
     "text": [
      "\n",
      "🔹 Test avec 1 CPU cores...\n"
     ]
    },
    {
     "name": "stderr",
     "output_type": "stream",
     "text": [
      "25/03/10 14:59:11 WARN MemoryStore: Not enough space to cache rdd_48_4 in memory! (computed 20.4 MiB so far)\n",
      "25/03/10 14:59:11 WARN BlockManager: Persisting block rdd_48_4 to disk instead.\n",
      "25/03/10 14:59:11 WARN MemoryStore: Not enough space to cache rdd_48_2 in memory! (computed 20.4 MiB so far)\n",
      "25/03/10 14:59:11 WARN BlockManager: Persisting block rdd_48_2 to disk instead.\n",
      "25/03/10 14:59:11 WARN MemoryStore: Not enough space to cache rdd_48_1 in memory! (computed 20.4 MiB so far)\n",
      "25/03/10 14:59:11 WARN BlockManager: Persisting block rdd_48_1 to disk instead.\n",
      "                                                                                \r"
     ]
    },
    {
     "name": "stdout",
     "output_type": "stream",
     "text": [
      "\n",
      "🔹 Test avec 2 CPU cores...\n"
     ]
    },
    {
     "name": "stderr",
     "output_type": "stream",
     "text": [
      "25/03/10 15:00:43 WARN MemoryStore: Not enough space to cache rdd_48_3 in memory! (computed 20.4 MiB so far)\n",
      "25/03/10 15:00:43 WARN BlockManager: Persisting block rdd_48_3 to disk instead.\n",
      "25/03/10 15:00:43 WARN MemoryStore: Not enough space to cache rdd_48_4 in memory! (computed 20.4 MiB so far)\n",
      "25/03/10 15:00:43 WARN BlockManager: Persisting block rdd_48_4 to disk instead.\n",
      "25/03/10 15:00:43 WARN MemoryStore: Not enough space to cache rdd_48_1 in memory! (computed 45.9 MiB so far)\n",
      "25/03/10 15:00:43 WARN BlockManager: Persisting block rdd_48_1 to disk instead.\n",
      "25/03/10 15:00:43 WARN MemoryStore: Not enough space to cache rdd_48_0 in memory! (computed 45.9 MiB so far)\n",
      "25/03/10 15:00:43 WARN BlockManager: Persisting block rdd_48_0 to disk instead.\n",
      "25/03/10 15:00:43 WARN MemoryStore: Not enough space to cache rdd_48_2 in memory! (computed 45.9 MiB so far)\n",
      "25/03/10 15:00:43 WARN BlockManager: Persisting block rdd_48_2 to disk instead.\n",
      "                                                                                \r"
     ]
    },
    {
     "name": "stdout",
     "output_type": "stream",
     "text": [
      "\n",
      "🔹 Test avec 4 CPU cores...\n"
     ]
    },
    {
     "name": "stderr",
     "output_type": "stream",
     "text": [
      "25/03/10 15:02:19 WARN MemoryStore: Not enough space to cache rdd_48_6 in memory! (computed 13.4 MiB so far)\n",
      "25/03/10 15:02:19 WARN BlockManager: Persisting block rdd_48_6 to disk instead.\n",
      "25/03/10 15:02:19 WARN MemoryStore: Not enough space to cache rdd_48_5 in memory! (computed 13.4 MiB so far)\n",
      "25/03/10 15:02:19 WARN BlockManager: Persisting block rdd_48_5 to disk instead.\n",
      "25/03/10 15:02:19 WARN MemoryStore: Not enough space to cache rdd_48_7 in memory! (computed 20.4 MiB so far)\n",
      "25/03/10 15:02:19 WARN BlockManager: Persisting block rdd_48_7 to disk instead.\n",
      "25/03/10 15:02:19 WARN MemoryStore: Not enough space to cache rdd_48_1 in memory! (computed 20.4 MiB so far)\n",
      "25/03/10 15:02:19 WARN BlockManager: Persisting block rdd_48_1 to disk instead.\n",
      "25/03/10 15:02:19 WARN MemoryStore: Not enough space to cache rdd_48_0 in memory! (computed 20.4 MiB so far)\n",
      "25/03/10 15:02:19 WARN BlockManager: Persisting block rdd_48_0 to disk instead.\n",
      "25/03/10 15:02:19 WARN MemoryStore: Not enough space to cache rdd_48_3 in memory! (computed 20.4 MiB so far)\n",
      "25/03/10 15:02:19 WARN BlockManager: Persisting block rdd_48_3 to disk instead.\n",
      "                                                                                \r"
     ]
    },
    {
     "name": "stdout",
     "output_type": "stream",
     "text": [
      "\n",
      "📊 Résultats Comparatifs :\n",
      " CPU Cores              Model    AUC  Accuracy  Training Time (s)\n",
      "         1       RandomForest 0.6369    0.5881              27.40\n",
      "         1 LogisticRegression 0.5939    0.5651               6.62\n",
      "         1                GBT 0.6932    0.6394              36.01\n",
      "         2       RandomForest 0.6369    0.5881              23.37\n",
      "         2 LogisticRegression 0.5939    0.5651               7.35\n",
      "         2                GBT 0.6932    0.6394              38.46\n",
      "         4       RandomForest 0.6359    0.5894              22.08\n",
      "         4 LogisticRegression 0.5933    0.5656               6.99\n",
      "         4                GBT 0.6943    0.6407              37.92\n"
     ]
    },
    {
     "data": {
      "image/png": "[encoded data removed]",
      "text/plain": [
       "<Figure size 1000x500 with 1 Axes>"
      ]
     },
     "metadata": {},
     "output_type": "display_data"
    }
   ],
   "source": [
    "import pandas as pd\n",
    "\n",
    "def display_results(results):\n",
    "    df_results = []\n",
    "\n",
    "    for res in results:\n",
    "        num_cores = res[\"CPU Cores\"]\n",
    "        for model, metrics in res[\"Models\"].items():\n",
    "            df_results.append({\n",
    "                \"CPU Cores\": num_cores,\n",
    "                \"Model\": model,\n",
    "                \"AUC\": metrics[\"AUC\"],\n",
    "                \"Accuracy\": metrics[\"Accuracy\"],\n",
    "                \"Training Time (s)\": metrics[\"Training Time (s)\"]\n",
    "            })\n",
    "\n",
    "    df_results = pd.DataFrame(df_results)\n",
    "\n",
    "    # 🔹 Afficher le tableau dans la console\n",
    "    print(\"\\n📊 Résultats Comparatifs :\")\n",
    "    print(df_results.to_string(index=False))\n",
    "\n",
    "    # 🔹 Générer un graphique avec Matplotlib\n",
    "    import matplotlib.pyplot as plt\n",
    "\n",
    "    plt.figure(figsize=(10, 5))\n",
    "    for model in df_results[\"Model\"].unique():\n",
    "        subset = df_results[df_results[\"Model\"] == model]\n",
    "        plt.plot(subset[\"CPU Cores\"], subset[\"AUC\"], marker=\"o\", linestyle=\"-\", label=f\"{model} (AUC)\")\n",
    "\n",
    "    plt.xlabel(\"Nombre de CPU Cores\")\n",
    "    plt.ylabel(\"AUC\")\n",
    "    plt.title(\"Comparaison des performances selon les CPU Cores\")\n",
    "    plt.legend()\n",
    "    plt.grid()\n",
    "    plt.show()\n",
    "\n",
    "# 🚀 Exécution du script\n",
    "if __name__ == \"__main__\":\n",
    "    train_path = \"HIGGS-Train.csv\"\n",
    "    test_path = \"HIGGS-Test.csv\"\n",
    "    cpu_tests = [1, 2, 4]  # Modifier selon les ressources disponibles\n",
    "\n",
    "    results = run_experiment(train_path, test_path, cpu_tests)\n",
    "    display_results(results)\n"
   ]
  },
  {
   "cell_type": "markdown",
   "metadata": {},
   "source": [
    "## Exécution du script"
   ]
  }
 ],
 "metadata": {
  "kernelspec": {
   "display_name": "Python 3",
   "language": "python",
   "name": "python3"
  },
  "language_info": {
   "codemirror_mode": {
    "name": "ipython",
    "version": 3
   },
   "file_extension": ".py",
   "mimetype": "text/x-python",
   "name": "python",
   "nbconvert_exporter": "python",
   "pygments_lexer": "ipython3",
   "version": "3.9.6"
  }
 },
 "nbformat": 4,
 "nbformat_minor": 2
}
