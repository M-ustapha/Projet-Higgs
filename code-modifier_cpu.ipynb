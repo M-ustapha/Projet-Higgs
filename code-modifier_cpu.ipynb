{
 "cells": [
  {
   "cell_type": "code",
   "execution_count": 1,
   "metadata": {},
   "outputs": [],
   "source": [
    "\n",
    "# %%\n",
    "import time\n",
    "from pyspark.sql import SparkSession\n",
    "from pyspark.sql.functions import col\n",
    "from pyspark.ml.feature import VectorAssembler\n",
    "from pyspark.ml.classification import RandomForestClassifier, LogisticRegression, GBTClassifier\n",
    "from pyspark.ml.evaluation import BinaryClassificationEvaluator, MulticlassClassificationEvaluator\n",
    "from pyspark.ml.tuning import CrossValidator, ParamGridBuilder"
   ]
  },
  {
   "cell_type": "code",
   "execution_count": 2,
   "metadata": {},
   "outputs": [],
   "source": [
    "# %%\n",
    "# Fonction de création de la session Spark avec configuration du nombre de cores\n",
    "def get_spark_session(app_name, cores):\n",
    "    return (SparkSession.builder\n",
    "            .appName(app_name)\n",
    "            .config(\"spark.executor.cores\", cores)\n",
    "            .getOrCreate())"
   ]
  },
  {
   "cell_type": "code",
   "execution_count": 10,
   "metadata": {},
   "outputs": [],
   "source": [
    "# Fonction d'entraînement et d'évaluation du pipeline pour une configuration donnée\n",
    "def train_pipeline(cpu_cores):\n",
    "    # Initialiser Spark avec le nombre de CPU cores spécifié\n",
    "    spark = get_spark_session(\"HiggsBosonClassification\", cpu_cores)\n",
    "    \n",
    "    # 1️⃣ Charger les données (les fichiers compressés .gz)\n",
    "    train_path = \"HIGGS-Train.csv\"  # ou \"HIGGS-Train.csv.gz\" si le fichier est compressé\n",
    "    test_path = \"HIGGS-Test.csv\"    # ou \"HIGGS-Test.csv.gz\" si le fichier est compressé\n",
    "    \n",
    "    train_df = spark.read.csv(train_path, header=False, inferSchema=True)\n",
    "    test_df = spark.read.csv(test_path, header=False, inferSchema=True)\n",
    "    \n",
    "    # 2️⃣ Renommer les colonnes\n",
    "    # On nomme toutes les 29 colonnes : la première est le label et les 28 suivantes sont des features.\n",
    "    col_names = [\"label\"] + [f\"feature_{i}\" for i in range(1, 29)]\n",
    "    train_df = train_df.toDF(*col_names)\n",
    "    test_df = test_df.toDF(*col_names)\n",
    "    \n",
    "    # 3️⃣ Assembler les caractéristiques en un seul vecteur\n",
    "    # On utilise uniquement les 21 premières features (colonnes 2 à 22) pour la modélisation.\n",
    "    feature_cols = [f\"feature_{i}\" for i in range(1, 22)]\n",
    "    assembler = VectorAssembler(inputCols=feature_cols, outputCol=\"features\")\n",
    "    \n",
    "    train_df = assembler.transform(train_df).select(\"features\", \"label\")\n",
    "    test_df = assembler.transform(test_df).select(\"features\", \"label\")\n",
    "    \n",
    "    # 4️⃣ Séparer le jeu d'entraînement (80%) et de validation (20%)\n",
    "    train_data, val_data = train_df.randomSplit([0.8, 0.2], seed=42)\n",
    "    \n",
    "    # 5️⃣ Définir les modèles de classification\n",
    "    rf = RandomForestClassifier(labelCol=\"label\", featuresCol=\"features\", numTrees=50)\n",
    "    lr = LogisticRegression(labelCol=\"label\", featuresCol=\"features\", maxIter=20)\n",
    "    gbt = GBTClassifier(labelCol=\"label\", featuresCol=\"features\", maxIter=50)\n",
    "    \n",
    "    # 6️⃣ Définir les évaluateurs : ROC et Accuracy\n",
    "    roc_evaluator = BinaryClassificationEvaluator(labelCol=\"label\", metricName=\"areaUnderROC\")\n",
    "    acc_evaluator = MulticlassClassificationEvaluator(labelCol=\"label\", metricName=\"accuracy\")\n",
    "    \n",
    "    # 7️⃣ Validation croisée pour Random Forest\n",
    "    paramGrid = ParamGridBuilder().addGrid(rf.numTrees, [10, 50, 100]).build()\n",
    "    crossval = CrossValidator(estimator=rf, estimatorParamMaps=paramGrid, evaluator=roc_evaluator, numFolds=3)\n",
    "    \n",
    "    # Mesurer le temps d'entraînement du modèle Random Forest (avec validation croisée)\n",
    "    start_time = time.time()\n",
    "    rf_model = crossval.fit(train_data)\n",
    "    elapsed_time = time.time() - start_time\n",
    "    \n",
    "    # Entraîner les autres modèles (sans validation croisée pour simplifier la comparaison)\n",
    "    lr_model = lr.fit(train_data)\n",
    "    gbt_model = gbt.fit(train_data)\n",
    "    \n",
    "    # 8️⃣ Évaluation sur le jeu de validation\n",
    "    # Random Forest\n",
    "    rf_predictions = rf_model.transform(val_data)\n",
    "    rf_auc = roc_evaluator.evaluate(rf_predictions)\n",
    "    rf_acc = acc_evaluator.evaluate(rf_predictions)\n",
    "    \n",
    "    # Logistic Regression\n",
    "    lr_predictions = lr_model.transform(val_data)\n",
    "    lr_auc = roc_evaluator.evaluate(lr_predictions)\n",
    "    lr_acc = acc_evaluator.evaluate(lr_predictions)\n",
    "    \n",
    "    # Gradient Boosting\n",
    "    gbt_predictions = gbt_model.transform(val_data)\n",
    "    gbt_auc = roc_evaluator.evaluate(gbt_predictions)\n",
    "    gbt_acc = acc_evaluator.evaluate(gbt_predictions)\n",
    "    \n",
    "    print(f\"--- Configuration: {cpu_cores} CPU core(s) ---\")\n",
    "    print(f\"Temps d'entraînement (RF avec CV) : {elapsed_time:.2f} secondes\")\n",
    "    print(f\"AUC (Random Forest)      : {rf_auc:.4f} | Accuracy: {rf_acc:.4f}\")\n",
    "    print(f\"AUC (Logistic Regression): {lr_auc:.4f} | Accuracy: {lr_acc:.4f}\")\n",
    "    print(f\"AUC (Gradient Boosting)  : {gbt_auc:.4f} | Accuracy: {gbt_acc:.4f}\")\n",
    "    print()\n",
    "    \n",
    "    # Sauvegarder le meilleur modèle de Random Forest et l'évaluer sur le jeu de test\n",
    "    best_rf_model = rf_model.bestModel\n",
    "    best_rf_model.write().overwrite().save(\"best_rf_model\")\n",
    "    \n",
    "    test_predictions = best_rf_model.transform(test_df)\n",
    "    test_auc = roc_evaluator.evaluate(test_predictions)\n",
    "    test_acc = acc_evaluator.evaluate(test_predictions)\n",
    "    print(f\"AUC sur le test (Meilleur RF) pour {cpu_cores} core(s): {test_auc:.4f}\")\n",
    "    print(f\"Accuracy sur le test (Meilleur RF) pour {cpu_cores} core(s): {test_acc:.4f}\")\n",
    "    print(\"-------------------------------------------------------\\n\")\n",
    "    \n",
    "    spark.stop()\n",
    "    \n",
    "    # Retourne le temps d'entraînement pour la configuration\n",
    "    return elapsed_time"
   ]
  },
  {
   "cell_type": "code",
   "execution_count": 11,
   "metadata": {},
   "outputs": [
    {
     "name": "stderr",
     "output_type": "stream",
     "text": [
      "25/03/09 13:45:54 WARN SparkStringUtils: Truncated the string representation of a plan since it was too large. This behavior can be adjusted by setting 'spark.sql.debug.maxToStringFields'.\n",
      "25/03/09 13:49:01 WARN MemoryStore: Not enough space to cache rdd_854_4 in memory! (computed 13.1 MiB so far)\n",
      "25/03/09 13:49:01 WARN MemoryStore: Not enough space to cache rdd_854_7 in memory! (computed 20.3 MiB so far)\n",
      "25/03/09 13:49:01 WARN MemoryStore: Not enough space to cache rdd_854_1 in memory! (computed 20.3 MiB so far)\n",
      "25/03/09 13:49:01 WARN MemoryStore: Not enough space to cache rdd_854_5 in memory! (computed 13.1 MiB so far)\n",
      "25/03/09 13:49:01 WARN MemoryStore: Not enough space to cache rdd_854_3 in memory! (computed 20.3 MiB so far)\n",
      "25/03/09 13:49:01 WARN MemoryStore: Not enough space to cache rdd_854_6 in memory! (computed 20.3 MiB so far)\n",
      "25/03/09 13:49:01 WARN MemoryStore: Not enough space to cache rdd_854_0 in memory! (computed 20.3 MiB so far)\n",
      "25/03/09 13:49:01 WARN MemoryStore: Not enough space to cache rdd_854_2 in memory! (computed 20.3 MiB so far)\n",
      "25/03/09 13:49:01 WARN BlockManager: Persisting block rdd_854_2 to disk instead.\n",
      "25/03/09 13:49:01 WARN BlockManager: Persisting block rdd_854_1 to disk instead.\n",
      "25/03/09 13:49:01 WARN BlockManager: Persisting block rdd_854_6 to disk instead.\n",
      "25/03/09 13:49:01 WARN BlockManager: Persisting block rdd_854_7 to disk instead.\n",
      "25/03/09 13:49:01 WARN BlockManager: Persisting block rdd_854_3 to disk instead.\n",
      "25/03/09 13:49:01 WARN BlockManager: Persisting block rdd_854_5 to disk instead.\n",
      "25/03/09 13:49:01 WARN BlockManager: Persisting block rdd_854_4 to disk instead.\n",
      "25/03/09 13:49:01 WARN BlockManager: Persisting block rdd_854_0 to disk instead.\n",
      "25/03/09 13:49:04 WARN MemoryStore: Not enough space to cache rdd_854_5 in memory! (computed 30.9 MiB so far)\n",
      "25/03/09 13:49:04 WARN MemoryStore: Not enough space to cache rdd_854_3 in memory! (computed 46.4 MiB so far)\n",
      "25/03/09 13:49:04 WARN MemoryStore: Not enough space to cache rdd_854_4 in memory! (computed 46.4 MiB so far)\n",
      "25/03/09 13:49:07 WARN MemoryStore: Not enough space to cache rdd_854_4 in memory! (computed 46.4 MiB so far)\n",
      "25/03/09 13:49:07 WARN MemoryStore: Not enough space to cache rdd_854_3 in memory! (computed 46.4 MiB so far)\n",
      "25/03/09 13:49:07 WARN MemoryStore: Not enough space to cache rdd_854_5 in memory! (computed 46.4 MiB so far)\n",
      "25/03/09 13:49:11 WARN MemoryStore: Not enough space to cache rdd_854_5 in memory! (computed 46.4 MiB so far)\n",
      "25/03/09 13:49:11 WARN MemoryStore: Not enough space to cache rdd_854_3 in memory! (computed 46.4 MiB so far)\n",
      "25/03/09 13:49:11 WARN MemoryStore: Not enough space to cache rdd_854_4 in memory! (computed 46.4 MiB so far)\n",
      "25/03/09 13:49:15 WARN MemoryStore: Not enough space to cache rdd_854_3 in memory! (computed 46.4 MiB so far)\n",
      "25/03/09 13:49:15 WARN MemoryStore: Not enough space to cache rdd_854_4 in memory! (computed 46.4 MiB so far)\n",
      "25/03/09 13:49:15 WARN MemoryStore: Not enough space to cache rdd_854_5 in memory! (computed 46.4 MiB so far)\n",
      "25/03/09 13:49:20 WARN MemoryStore: Not enough space to cache rdd_854_5 in memory! (computed 46.4 MiB so far)\n",
      "25/03/09 13:49:20 WARN MemoryStore: Not enough space to cache rdd_854_4 in memory! (computed 46.4 MiB so far)\n",
      "25/03/09 13:49:20 WARN MemoryStore: Not enough space to cache rdd_854_3 in memory! (computed 46.4 MiB so far)\n",
      "25/03/09 13:49:33 WARN InstanceBuilder: Failed to load implementation from:dev.ludovic.netlib.blas.JNIBLAS\n",
      "25/03/09 13:49:33 WARN InstanceBuilder: Failed to load implementation from:dev.ludovic.netlib.blas.VectorBLAS\n",
      "                                                                                \r"
     ]
    },
    {
     "name": "stdout",
     "output_type": "stream",
     "text": [
      "--- Configuration: 1 CPU core(s) ---\n",
      "Temps d'entraînement (RF avec CV) : 212.89 secondes\n",
      "AUC (Random Forest)      : 0.6373 | Accuracy: 0.5928\n",
      "AUC (Logistic Regression): 0.5934 | Accuracy: 0.5656\n",
      "AUC (Gradient Boosting)  : 0.6941 | Accuracy: 0.6395\n",
      "\n"
     ]
    },
    {
     "name": "stderr",
     "output_type": "stream",
     "text": [
      "                                                                                \r"
     ]
    },
    {
     "name": "stdout",
     "output_type": "stream",
     "text": [
      "AUC sur le test (Meilleur RF) pour 1 core(s): 0.6379\n",
      "Accuracy sur le test (Meilleur RF) pour 1 core(s): 0.5914\n",
      "-------------------------------------------------------\n",
      "\n"
     ]
    },
    {
     "name": "stderr",
     "output_type": "stream",
     "text": [
      "25/03/09 14:02:48 WARN MemoryStore: Not enough space to cache rdd_834_5 in memory! (computed 13.1 MiB so far)\n",
      "25/03/09 14:02:48 WARN MemoryStore: Not enough space to cache rdd_834_7 in memory! (computed 13.1 MiB so far)\n",
      "25/03/09 14:02:48 WARN BlockManager: Persisting block rdd_834_5 to disk instead.\n",
      "25/03/09 14:02:48 WARN BlockManager: Persisting block rdd_834_7 to disk instead.\n",
      "25/03/09 14:02:48 WARN MemoryStore: Not enough space to cache rdd_834_2 in memory! (computed 20.3 MiB so far)\n",
      "25/03/09 14:02:48 WARN BlockManager: Persisting block rdd_834_2 to disk instead.\n",
      "25/03/09 14:02:48 WARN MemoryStore: Not enough space to cache rdd_834_1 in memory! (computed 20.3 MiB so far)\n",
      "25/03/09 14:02:48 WARN BlockManager: Persisting block rdd_834_1 to disk instead.\n",
      "25/03/09 14:02:48 WARN MemoryStore: Not enough space to cache rdd_834_4 in memory! (computed 20.3 MiB so far)\n",
      "25/03/09 14:02:48 WARN BlockManager: Persisting block rdd_834_4 to disk instead.\n",
      "25/03/09 14:02:48 WARN MemoryStore: Not enough space to cache rdd_834_6 in memory! (computed 20.3 MiB so far)\n",
      "25/03/09 14:02:48 WARN BlockManager: Persisting block rdd_834_6 to disk instead.\n",
      "25/03/09 14:02:48 WARN MemoryStore: Not enough space to cache rdd_834_0 in memory! (computed 20.3 MiB so far)\n",
      "25/03/09 14:02:48 WARN BlockManager: Persisting block rdd_834_0 to disk instead.\n",
      "25/03/09 14:02:50 WARN MemoryStore: Not enough space to cache rdd_834_1 in memory! (computed 46.4 MiB so far)\n",
      "25/03/09 14:02:50 WARN MemoryStore: Not enough space to cache rdd_834_4 in memory! (computed 46.4 MiB so far)\n",
      "25/03/09 14:02:51 WARN MemoryStore: Not enough space to cache rdd_834_6 in memory! (computed 46.4 MiB so far)\n",
      "25/03/09 14:02:51 WARN MemoryStore: Not enough space to cache rdd_834_5 in memory! (computed 46.4 MiB so far)\n",
      "25/03/09 14:02:54 WARN MemoryStore: Not enough space to cache rdd_834_5 in memory! (computed 46.4 MiB so far)\n",
      "25/03/09 14:02:54 WARN MemoryStore: Not enough space to cache rdd_834_4 in memory! (computed 46.4 MiB so far)\n",
      "25/03/09 14:02:54 WARN MemoryStore: Not enough space to cache rdd_834_1 in memory! (computed 46.4 MiB so far)\n",
      "25/03/09 14:02:57 WARN MemoryStore: Not enough space to cache rdd_834_5 in memory! (computed 46.4 MiB so far)\n",
      "25/03/09 14:02:57 WARN MemoryStore: Not enough space to cache rdd_834_1 in memory! (computed 46.4 MiB so far)\n",
      "25/03/09 14:02:57 WARN MemoryStore: Not enough space to cache rdd_834_4 in memory! (computed 46.4 MiB so far)\n",
      "25/03/09 14:03:01 WARN MemoryStore: Not enough space to cache rdd_834_5 in memory! (computed 46.4 MiB so far)\n",
      "25/03/09 14:03:01 WARN MemoryStore: Not enough space to cache rdd_834_1 in memory! (computed 46.4 MiB so far)\n",
      "25/03/09 14:03:01 WARN MemoryStore: Not enough space to cache rdd_834_4 in memory! (computed 46.4 MiB so far)\n",
      "25/03/09 14:03:05 WARN MemoryStore: Not enough space to cache rdd_834_4 in memory! (computed 46.4 MiB so far)\n",
      "25/03/09 14:03:05 WARN MemoryStore: Not enough space to cache rdd_834_5 in memory! (computed 46.4 MiB so far)\n",
      "25/03/09 14:03:05 WARN MemoryStore: Not enough space to cache rdd_834_1 in memory! (computed 46.4 MiB so far)\n",
      "                                                                                \r"
     ]
    },
    {
     "name": "stdout",
     "output_type": "stream",
     "text": [
      "--- Configuration: 2 CPU core(s) ---\n",
      "Temps d'entraînement (RF avec CV) : 190.42 secondes\n",
      "AUC (Random Forest)      : 0.6373 | Accuracy: 0.5928\n",
      "AUC (Logistic Regression): 0.5934 | Accuracy: 0.5656\n",
      "AUC (Gradient Boosting)  : 0.6941 | Accuracy: 0.6395\n",
      "\n"
     ]
    },
    {
     "name": "stderr",
     "output_type": "stream",
     "text": [
      "                                                                                \r"
     ]
    },
    {
     "name": "stdout",
     "output_type": "stream",
     "text": [
      "AUC sur le test (Meilleur RF) pour 2 core(s): 0.6379\n",
      "Accuracy sur le test (Meilleur RF) pour 2 core(s): 0.5914\n",
      "-------------------------------------------------------\n",
      "\n"
     ]
    },
    {
     "name": "stderr",
     "output_type": "stream",
     "text": [
      "25/03/09 14:16:11 WARN MemoryStore: Not enough space to cache rdd_834_2 in memory! (computed 13.1 MiB so far)\n",
      "25/03/09 14:16:11 WARN BlockManager: Persisting block rdd_834_2 to disk instead.\n",
      "25/03/09 14:16:11 WARN MemoryStore: Not enough space to cache rdd_834_5 in memory! (computed 13.1 MiB so far)\n",
      "25/03/09 14:16:11 WARN BlockManager: Persisting block rdd_834_5 to disk instead.\n",
      "25/03/09 14:16:11 WARN MemoryStore: Not enough space to cache rdd_834_3 in memory! (computed 20.3 MiB so far)\n",
      "25/03/09 14:16:11 WARN BlockManager: Persisting block rdd_834_3 to disk instead.\n",
      "25/03/09 14:16:12 WARN MemoryStore: Not enough space to cache rdd_834_0 in memory! (computed 20.3 MiB so far)\n",
      "25/03/09 14:16:12 WARN MemoryStore: Not enough space to cache rdd_834_6 in memory! (computed 20.3 MiB so far)\n",
      "25/03/09 14:16:12 WARN MemoryStore: Not enough space to cache rdd_834_1 in memory! (computed 20.3 MiB so far)\n",
      "25/03/09 14:16:12 WARN BlockManager: Persisting block rdd_834_0 to disk instead.\n",
      "25/03/09 14:16:12 WARN BlockManager: Persisting block rdd_834_6 to disk instead.\n",
      "25/03/09 14:16:12 WARN BlockManager: Persisting block rdd_834_1 to disk instead.\n",
      "25/03/09 14:16:15 WARN MemoryStore: Not enough space to cache rdd_834_2 in memory! (computed 46.4 MiB so far)\n",
      "25/03/09 14:16:15 WARN MemoryStore: Not enough space to cache rdd_834_5 in memory! (computed 46.4 MiB so far)\n",
      "25/03/09 14:16:15 WARN MemoryStore: Not enough space to cache rdd_834_1 in memory! (computed 46.4 MiB so far)\n",
      "25/03/09 14:16:19 WARN MemoryStore: Not enough space to cache rdd_834_2 in memory! (computed 46.4 MiB so far)\n",
      "25/03/09 14:16:19 WARN MemoryStore: Not enough space to cache rdd_834_5 in memory! (computed 46.4 MiB so far)\n",
      "25/03/09 14:16:19 WARN MemoryStore: Not enough space to cache rdd_834_1 in memory! (computed 46.4 MiB so far)\n",
      "25/03/09 14:16:23 WARN MemoryStore: Not enough space to cache rdd_834_2 in memory! (computed 46.4 MiB so far)\n",
      "25/03/09 14:16:23 WARN MemoryStore: Not enough space to cache rdd_834_1 in memory! (computed 46.4 MiB so far)\n",
      "25/03/09 14:16:23 WARN MemoryStore: Not enough space to cache rdd_834_5 in memory! (computed 46.4 MiB so far)\n",
      "25/03/09 14:16:28 WARN MemoryStore: Not enough space to cache rdd_834_2 in memory! (computed 46.4 MiB so far)\n",
      "25/03/09 14:16:28 WARN MemoryStore: Not enough space to cache rdd_834_5 in memory! (computed 46.4 MiB so far)\n",
      "25/03/09 14:16:28 WARN MemoryStore: Not enough space to cache rdd_834_1 in memory! (computed 46.4 MiB so far)\n",
      "25/03/09 14:16:34 WARN MemoryStore: Not enough space to cache rdd_834_5 in memory! (computed 46.4 MiB so far)\n",
      "25/03/09 14:16:34 WARN MemoryStore: Not enough space to cache rdd_834_1 in memory! (computed 46.4 MiB so far)\n",
      "25/03/09 14:16:34 WARN MemoryStore: Not enough space to cache rdd_834_2 in memory! (computed 46.4 MiB so far)\n",
      "                                                                                \r"
     ]
    },
    {
     "name": "stdout",
     "output_type": "stream",
     "text": [
      "--- Configuration: 4 CPU core(s) ---\n",
      "Temps d'entraînement (RF avec CV) : 214.50 secondes\n",
      "AUC (Random Forest)      : 0.6373 | Accuracy: 0.5928\n",
      "AUC (Logistic Regression): 0.5933 | Accuracy: 0.5656\n",
      "AUC (Gradient Boosting)  : 0.6941 | Accuracy: 0.6395\n",
      "\n"
     ]
    },
    {
     "name": "stderr",
     "output_type": "stream",
     "text": [
      "                                                                                \r"
     ]
    },
    {
     "name": "stdout",
     "output_type": "stream",
     "text": [
      "AUC sur le test (Meilleur RF) pour 4 core(s): 0.6379\n",
      "Accuracy sur le test (Meilleur RF) pour 4 core(s): 0.5914\n",
      "-------------------------------------------------------\n",
      "\n"
     ]
    },
    {
     "name": "stderr",
     "output_type": "stream",
     "text": [
      "25/03/09 14:30:20 WARN MemoryStore: Not enough space to cache rdd_752_1 in memory! (computed 30.9 MiB so far)\n",
      "25/03/09 14:30:20 WARN MemoryStore: Not enough space to cache rdd_752_3 in memory! (computed 30.9 MiB so far)\n",
      "25/03/09 14:30:20 WARN MemoryStore: Not enough space to cache rdd_752_2 in memory! (computed 30.9 MiB so far)\n",
      "25/03/09 14:30:20 WARN BlockManager: Persisting block rdd_752_2 to disk instead.\n",
      "25/03/09 14:30:20 WARN BlockManager: Persisting block rdd_752_3 to disk instead.\n",
      "25/03/09 14:30:20 WARN BlockManager: Persisting block rdd_752_1 to disk instead.\n",
      "25/03/09 14:31:07 WARN MemoryStore: Not enough space to cache rdd_834_5 in memory! (computed 20.3 MiB so far)\n",
      "25/03/09 14:31:07 WARN MemoryStore: Not enough space to cache rdd_834_6 in memory! (computed 20.3 MiB so far)\n",
      "25/03/09 14:31:07 WARN MemoryStore: Not enough space to cache rdd_834_0 in memory! (computed 13.1 MiB so far)\n",
      "25/03/09 14:31:07 WARN MemoryStore: Not enough space to cache rdd_834_3 in memory! (computed 13.1 MiB so far)\n",
      "25/03/09 14:31:07 WARN MemoryStore: Not enough space to cache rdd_834_7 in memory! (computed 20.3 MiB so far)\n",
      "25/03/09 14:31:07 WARN BlockManager: Persisting block rdd_834_0 to disk instead.\n",
      "25/03/09 14:31:07 WARN BlockManager: Persisting block rdd_834_6 to disk instead.\n",
      "25/03/09 14:31:07 WARN BlockManager: Persisting block rdd_834_3 to disk instead.\n",
      "25/03/09 14:31:07 WARN BlockManager: Persisting block rdd_834_7 to disk instead.\n",
      "25/03/09 14:31:07 WARN BlockManager: Persisting block rdd_834_5 to disk instead.\n",
      "25/03/09 14:31:07 WARN MemoryStore: Not enough space to cache rdd_834_2 in memory! (computed 20.3 MiB so far)\n",
      "25/03/09 14:31:07 WARN BlockManager: Persisting block rdd_834_2 to disk instead.\n",
      "25/03/09 14:31:07 WARN MemoryStore: Not enough space to cache rdd_834_1 in memory! (computed 20.3 MiB so far)\n",
      "25/03/09 14:31:07 WARN BlockManager: Persisting block rdd_834_1 to disk instead.\n",
      "25/03/09 14:31:07 WARN MemoryStore: Not enough space to cache rdd_834_4 in memory! (computed 20.3 MiB so far)\n",
      "25/03/09 14:31:07 WARN BlockManager: Persisting block rdd_834_4 to disk instead.\n",
      "25/03/09 14:31:09 WARN MemoryStore: Not enough space to cache rdd_834_5 in memory! (computed 46.4 MiB so far)\n",
      "25/03/09 14:31:09 WARN MemoryStore: Not enough space to cache rdd_834_4 in memory! (computed 46.4 MiB so far)\n",
      "25/03/09 14:31:09 WARN MemoryStore: Not enough space to cache rdd_834_0 in memory! (computed 46.4 MiB so far)\n",
      "25/03/09 14:31:13 WARN MemoryStore: Not enough space to cache rdd_834_5 in memory! (computed 46.4 MiB so far)\n",
      "25/03/09 14:31:13 WARN MemoryStore: Not enough space to cache rdd_834_0 in memory! (computed 46.4 MiB so far)\n",
      "25/03/09 14:31:13 WARN MemoryStore: Not enough space to cache rdd_834_4 in memory! (computed 46.4 MiB so far)\n",
      "25/03/09 14:31:17 WARN MemoryStore: Not enough space to cache rdd_834_4 in memory! (computed 46.4 MiB so far)\n",
      "25/03/09 14:31:17 WARN MemoryStore: Not enough space to cache rdd_834_0 in memory! (computed 46.4 MiB so far)\n",
      "25/03/09 14:31:17 WARN MemoryStore: Not enough space to cache rdd_834_5 in memory! (computed 46.4 MiB so far)\n",
      "25/03/09 14:31:23 WARN MemoryStore: Not enough space to cache rdd_834_0 in memory! (computed 46.4 MiB so far)\n",
      "25/03/09 14:31:23 WARN MemoryStore: Not enough space to cache rdd_834_4 in memory! (computed 46.4 MiB so far)\n",
      "25/03/09 14:31:23 WARN MemoryStore: Not enough space to cache rdd_834_5 in memory! (computed 46.4 MiB so far)\n",
      "25/03/09 14:31:29 WARN MemoryStore: Not enough space to cache rdd_834_4 in memory! (computed 46.4 MiB so far)\n",
      "25/03/09 14:31:29 WARN MemoryStore: Not enough space to cache rdd_834_0 in memory! (computed 46.4 MiB so far)\n",
      "25/03/09 14:31:29 WARN MemoryStore: Not enough space to cache rdd_834_5 in memory! (computed 46.4 MiB so far)\n",
      "                                                                                \r"
     ]
    },
    {
     "name": "stdout",
     "output_type": "stream",
     "text": [
      "--- Configuration: 8 CPU core(s) ---\n",
      "Temps d'entraînement (RF avec CV) : 218.08 secondes\n",
      "AUC (Random Forest)      : 0.6373 | Accuracy: 0.5928\n",
      "AUC (Logistic Regression): 0.5934 | Accuracy: 0.5656\n",
      "AUC (Gradient Boosting)  : 0.6941 | Accuracy: 0.6395\n",
      "\n"
     ]
    },
    {
     "name": "stderr",
     "output_type": "stream",
     "text": [
      "                                                                                \r"
     ]
    },
    {
     "name": "stdout",
     "output_type": "stream",
     "text": [
      "AUC sur le test (Meilleur RF) pour 8 core(s): 0.6379\n",
      "Accuracy sur le test (Meilleur RF) pour 8 core(s): 0.5914\n",
      "-------------------------------------------------------\n",
      "\n",
      "Comparaison globale des temps d'entraînement :\n",
      "CPU Cores: 1, Temps: 212.89 secondes\n",
      "CPU Cores: 2, Temps: 190.42 secondes\n",
      "CPU Cores: 4, Temps: 214.50 secondes\n",
      "CPU Cores: 8, Temps: 218.08 secondes\n"
     ]
    }
   ],
   "source": [
    "# %%\n",
    "# Comparaison des temps d'entraînement en fonction du nombre de CPU cores\n",
    "cpu_configs = [1, 2, 4, 8]\n",
    "training_times = {}\n",
    "\n",
    "for cores in cpu_configs:\n",
    "    training_times[cores] = train_pipeline(cores)\n",
    "\n",
    "print(\"Comparaison globale des temps d'entraînement :\")\n",
    "for cores, t in training_times.items():\n",
    "    print(f\"CPU Cores: {cores}, Temps: {t:.2f} secondes\")"
   ]
  }
 ],
 "metadata": {
  "kernelspec": {
   "display_name": "base",
   "language": "python",
   "name": "python3"
  },
  "language_info": {
   "codemirror_mode": {
    "name": "ipython",
    "version": 3
   },
   "file_extension": ".py",
   "mimetype": "text/x-python",
   "name": "python",
   "nbconvert_exporter": "python",
   "pygments_lexer": "ipython3",
   "version": "3.11.5"
  }
 },
 "nbformat": 4,
 "nbformat_minor": 2
}
