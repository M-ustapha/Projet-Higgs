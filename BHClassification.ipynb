{
 "cells": [
  {
   "cell_type": "code",
   "execution_count": 1,
   "metadata": {},
   "outputs": [
    {
     "name": "stdout",
     "output_type": "stream",
     "text": [
      "Defaulting to user installation because normal site-packages is not writeable\n",
      "Requirement already satisfied: pyspark in /Users/tourgismacbook/Library/Python/3.9/lib/python/site-packages (3.5.4)\n",
      "Requirement already satisfied: py4j==0.10.9.7 in /Users/tourgismacbook/Library/Python/3.9/lib/python/site-packages (from pyspark) (0.10.9.7)\n",
      "Note: you may need to restart the kernel to use updated packages.\n"
     ]
    }
   ],
   "source": [
    "pip install pyspark"
   ]
  },
  {
   "cell_type": "code",
   "execution_count": 2,
   "metadata": {},
   "outputs": [],
   "source": [
    "from pyspark.sql import SparkSession\n",
    "from pyspark.sql.functions import col\n",
    "from pyspark.ml.feature import VectorAssembler, StringIndexer\n",
    "from pyspark.ml.classification import RandomForestClassifier, LogisticRegression, GBTClassifier\n",
    "from pyspark.ml.evaluation import BinaryClassificationEvaluator\n",
    "from pyspark.ml.tuning import CrossValidator, ParamGridBuilder"
   ]
  },
  {
   "cell_type": "code",
   "execution_count": 3,
   "metadata": {},
   "outputs": [
    {
     "name": "stderr",
     "output_type": "stream",
     "text": [
      "Setting default log level to \"WARN\".\n",
      "To adjust logging level use sc.setLogLevel(newLevel). For SparkR, use setLogLevel(newLevel).\n",
      "25/03/08 16:58:43 WARN NativeCodeLoader: Unable to load native-hadoop library for your platform... using builtin-java classes where applicable\n"
     ]
    }
   ],
   "source": [
    "# 1️⃣ Initialiser Spark\n",
    "spark = SparkSession.builder.appName(\"HiggsBosonClassification\").getOrCreate()"
   ]
  },
  {
   "cell_type": "code",
   "execution_count": 4,
   "metadata": {},
   "outputs": [],
   "source": [
    "# 2️⃣ Charger les données (⚠️ Les fichiers sont compressés .gz)\n",
    "train_path = \"HIGGS-Train.csv\"\n",
    "test_path = \"HIGGS-Test.csv\""
   ]
  },
  {
   "cell_type": "code",
   "execution_count": 5,
   "metadata": {},
   "outputs": [
    {
     "name": "stderr",
     "output_type": "stream",
     "text": [
      "                                                                                \r"
     ]
    }
   ],
   "source": [
    "train_df = spark.read.csv(train_path, header=False, inferSchema=True)\n",
    "test_df = spark.read.csv(test_path, header=False, inferSchema=True)"
   ]
  },
  {
   "cell_type": "code",
   "execution_count": 6,
   "metadata": {},
   "outputs": [
    {
     "name": "stderr",
     "output_type": "stream",
     "text": [
      "25/03/08 17:00:38 WARN SparkStringUtils: Truncated the string representation of a plan since it was too large. This behavior can be adjusted by setting 'spark.sql.debug.maxToStringFields'.\n"
     ]
    },
    {
     "name": "stdout",
     "output_type": "stream",
     "text": [
      "+---+------------------+-------------------+-------------------+------------------+-------------------+------------------+--------------------+-------------------+------------------+------------------+-------------------+-------------------+------------------+------------------+--------------------+-------------------+-----------------+-------------------+--------------------+--------------------+-----------------+------------------+------------------+------------------+------------------+------------------+------------------+------------------+\n",
      "|_c0|               _c1|                _c2|                _c3|               _c4|                _c5|               _c6|                 _c7|                _c8|               _c9|              _c10|               _c11|               _c12|              _c13|              _c14|                _c15|               _c16|             _c17|               _c18|                _c19|                _c20|             _c21|              _c22|              _c23|              _c24|              _c25|              _c26|              _c27|              _c28|\n",
      "+---+------------------+-------------------+-------------------+------------------+-------------------+------------------+--------------------+-------------------+------------------+------------------+-------------------+-------------------+------------------+------------------+--------------------+-------------------+-----------------+-------------------+--------------------+--------------------+-----------------+------------------+------------------+------------------+------------------+------------------+------------------+------------------+\n",
      "|1.0| 0.869293212890625|-0.6350818276405334|0.22569026052951813| 0.327470064163208|-0.6899932026863098|0.7542022466659546|-0.24857313930988312|-1.0920639038085938|               0.0|1.3749921321868896|-0.6536741852760315| 0.9303491115570068|1.1074360609054565| 1.138904333114624| -1.5781983137130737| -1.046985387802124|              0.0|  0.657929539680481|-0.01045456994324...| -0.0457671694457531|3.101961374282837| 1.353760004043579|0.9795631170272827| 0.978076159954071|0.9200048446655273|0.7216574549674988|0.9887509346008301|0.8766783475875854|\n",
      "|1.0|0.9075421094894409| 0.3291472792625427| 0.3594118654727936|1.4979698657989502|-0.3130095303058624|  1.09553062915802| -0.5575249195098877| -1.588229775428772|2.1730761528015137|0.8125811815261841|-0.2136419266462326| 1.2710145711898804| 2.214872121810913|0.4999939501285553| -1.2614318132400513| 0.7321561574935913|              0.0|0.39870089292526245|  -1.138930082321167|-8.19110195152461...|              0.0|0.3022198975086212|0.8330481648445129|0.9856996536254883|0.9780983924865723|0.7797321677207947|0.9923557639122009|0.7983425855636597|\n",
      "|1.0|0.7988347411155701| 1.4706387519836426|-1.6359747648239136|  0.45377317070961| 0.4256291687488556| 1.104874610900879|  1.2823222875595093| 1.3816642761230469|               0.0|0.8517372012138367|  1.540658950805664|-0.8196895122528076| 2.214872121810913|0.9934899210929871|  0.3560801148414612|-0.2087775468826294|2.548224449157715|  1.256954550743103|   1.128847599029541|  0.9004608392715454|              0.0|0.9097532629966736| 1.108330488204956|0.9856922030448914|0.9513312578201294|0.8032515048980713|0.8659244179725647|0.7801175713539124|\n",
      "|0.0| 1.344384789466858|-0.8766260147094727| 0.9359127283096313| 1.992050051689148| 0.8824543952941895| 1.786065936088562| -1.6467777490615845|-0.9423825144767761|               0.0| 2.423264741897583|-0.6760157942771912| 0.7361586689949036| 2.214872121810913|1.2987197637557983|  -1.430738091468811|-0.3646581768989563|              0.0| 0.7453126907348633| -0.6783788204193115|  -1.360356330871582|              0.0|0.9466524720191956|1.0287036895751953|0.9986560940742493|0.7282806038856506|0.8692002296447754|1.0267364978790283|0.9579039812088013|\n",
      "|1.0|1.1050089597702026|0.32135555148124695|  1.522401213645935|0.8828076124191284| -1.205349326133728|0.6814661026000977| -1.0704638957977295|-0.9218706488609314|               0.0|0.8008721470832825|  1.020974040031433| 0.9714065194129944| 2.214872121810913|0.5967612862586975|-0.35027286410331726| 0.6311942934989929|              0.0| 0.4799988865852356|-0.37356552481651306| 0.11304061114788055|              0.0| 0.755856454372406|1.3610570430755615| 0.986609697341919|0.8380846381187439|1.1332951784133911|0.8722448945045471|0.8084865212440491|\n",
      "+---+------------------+-------------------+-------------------+------------------+-------------------+------------------+--------------------+-------------------+------------------+------------------+-------------------+-------------------+------------------+------------------+--------------------+-------------------+-----------------+-------------------+--------------------+--------------------+-----------------+------------------+------------------+------------------+------------------+------------------+------------------+------------------+\n",
      "only showing top 5 rows\n",
      "\n"
     ]
    }
   ],
   "source": [
    "train_df.show(5)\n"
   ]
  },
  {
   "cell_type": "code",
   "execution_count": 7,
   "metadata": {},
   "outputs": [],
   "source": [
    "# 3️⃣ Renommer les colonnes (Aucun header dans les fichiers CSV)\n",
    "col_names = [\"label\"] + [f\"feature_{i}\" for i in range(1, 29)]\n",
    "train_df = train_df.toDF(*col_names)\n",
    "test_df = test_df.toDF(*col_names)"
   ]
  },
  {
   "cell_type": "code",
   "execution_count": 8,
   "metadata": {},
   "outputs": [],
   "source": [
    "# 4️⃣ Assembler les caractéristiques en un seul vecteur\n",
    "feature_cols = [f\"feature_{i}\" for i in range(1, 29)]\n",
    "assembler = VectorAssembler(inputCols=feature_cols, outputCol=\"features\")\n",
    "\n",
    "train_df = assembler.transform(train_df).select(\"features\", \"label\")\n",
    "test_df = assembler.transform(test_df).select(\"features\", \"label\")"
   ]
  },
  {
   "cell_type": "code",
   "execution_count": 9,
   "metadata": {},
   "outputs": [],
   "source": [
    "# 5️⃣ Séparer le jeu d'entraînement (80%) et de validation (20%)\n",
    "train_data, val_data = train_df.randomSplit([0.8, 0.2], seed=42)"
   ]
  },
  {
   "cell_type": "code",
   "execution_count": 10,
   "metadata": {},
   "outputs": [],
   "source": [
    "# 6️⃣ Définir les modèles de classification\n",
    "rf = RandomForestClassifier(labelCol=\"label\", featuresCol=\"features\", numTrees=50)\n",
    "lr = LogisticRegression(labelCol=\"label\", featuresCol=\"features\", maxIter=20)\n",
    "gbt = GBTClassifier(labelCol=\"label\", featuresCol=\"features\", maxIter=50)\n"
   ]
  },
  {
   "cell_type": "code",
   "execution_count": 11,
   "metadata": {},
   "outputs": [],
   "source": [
    "# 7️⃣ Définir l'évaluateur (ROC)\n",
    "evaluator = BinaryClassificationEvaluator(labelCol=\"label\", metricName=\"areaUnderROC\")\n"
   ]
  },
  {
   "cell_type": "code",
   "execution_count": 12,
   "metadata": {},
   "outputs": [],
   "source": [
    "# 8️⃣ Définir la validation croisée et grille d’hyperparamètres pour Random Forest\n",
    "paramGrid = ParamGridBuilder().addGrid(rf.numTrees, [10, 50, 100]).build()\n",
    "crossval = CrossValidator(estimator=rf, estimatorParamMaps=paramGrid, evaluator=evaluator, numFolds=3)\n"
   ]
  },
  {
   "cell_type": "code",
   "execution_count": 14,
   "metadata": {},
   "outputs": [
    {
     "name": "stderr",
     "output_type": "stream",
     "text": [
      "25/03/08 17:04:59 WARN CacheManager: Asked to cache already cached data.\n",
      "25/03/08 17:04:59 WARN CacheManager: Asked to cache already cached data.\n",
      "25/03/08 17:07:45 WARN MemoryStore: Not enough space to cache rdd_484_5 in memory! (computed 32.2 MiB so far)\n",
      "25/03/08 17:07:45 WARN MemoryStore: Not enough space to cache rdd_484_2 in memory! (computed 32.2 MiB so far)\n",
      "25/03/08 17:07:45 WARN BlockManager: Persisting block rdd_484_5 to disk instead.\n",
      "25/03/08 17:07:45 WARN BlockManager: Persisting block rdd_484_2 to disk instead.\n",
      "25/03/08 17:07:45 WARN MemoryStore: Not enough space to cache rdd_484_7 in memory! (computed 32.2 MiB so far)\n",
      "25/03/08 17:07:45 WARN BlockManager: Persisting block rdd_484_7 to disk instead.\n",
      "25/03/08 17:07:45 WARN MemoryStore: Not enough space to cache rdd_484_4 in memory! (computed 32.2 MiB so far)\n",
      "25/03/08 17:07:45 WARN MemoryStore: Not enough space to cache rdd_484_1 in memory! (computed 32.2 MiB so far)\n",
      "25/03/08 17:07:45 WARN BlockManager: Persisting block rdd_484_1 to disk instead.\n",
      "25/03/08 17:07:45 WARN BlockManager: Persisting block rdd_484_4 to disk instead.\n",
      "25/03/08 17:07:45 WARN MemoryStore: Not enough space to cache rdd_484_0 in memory! (computed 32.2 MiB so far)\n",
      "25/03/08 17:07:45 WARN BlockManager: Persisting block rdd_484_0 to disk instead.\n",
      "25/03/08 17:07:46 WARN MemoryStore: Not enough space to cache rdd_484_3 in memory! (computed 32.2 MiB so far)\n",
      "25/03/08 17:07:46 WARN BlockManager: Persisting block rdd_484_3 to disk instead.\n",
      "25/03/08 17:09:55 WARN MemoryStore: Not enough space to cache rdd_746_1 in memory! (computed 32.2 MiB so far)\n",
      "25/03/08 17:09:55 WARN BlockManager: Persisting block rdd_746_1 to disk instead.\n",
      "25/03/08 17:09:55 WARN MemoryStore: Not enough space to cache rdd_746_7 in memory! (computed 32.2 MiB so far)\n",
      "25/03/08 17:09:55 WARN BlockManager: Persisting block rdd_746_7 to disk instead.\n",
      "25/03/08 17:09:55 WARN MemoryStore: Not enough space to cache rdd_746_2 in memory! (computed 32.2 MiB so far)\n",
      "25/03/08 17:09:55 WARN BlockManager: Persisting block rdd_746_2 to disk instead.\n",
      "25/03/08 17:09:55 WARN MemoryStore: Not enough space to cache rdd_746_5 in memory! (computed 32.2 MiB so far)\n",
      "25/03/08 17:09:55 WARN BlockManager: Persisting block rdd_746_5 to disk instead.\n",
      "25/03/08 17:09:55 WARN MemoryStore: Not enough space to cache rdd_746_0 in memory! (computed 32.2 MiB so far)\n",
      "25/03/08 17:09:55 WARN BlockManager: Persisting block rdd_746_0 to disk instead.\n",
      "25/03/08 17:09:56 WARN MemoryStore: Not enough space to cache rdd_746_3 in memory! (computed 32.2 MiB so far)\n",
      "25/03/08 17:09:56 WARN BlockManager: Persisting block rdd_746_3 to disk instead.\n",
      "25/03/08 17:09:56 WARN MemoryStore: Not enough space to cache rdd_746_4 in memory! (computed 32.2 MiB so far)\n",
      "25/03/08 17:09:56 WARN BlockManager: Persisting block rdd_746_4 to disk instead.\n",
      "25/03/08 17:12:18 WARN MemoryStore: Not enough space to cache rdd_1008_7 in memory! (computed 32.2 MiB so far)\n",
      "25/03/08 17:12:18 WARN MemoryStore: Not enough space to cache rdd_1008_2 in memory! (computed 32.2 MiB so far)\n",
      "25/03/08 17:12:18 WARN MemoryStore: Not enough space to cache rdd_1008_5 in memory! (computed 32.2 MiB so far)\n",
      "25/03/08 17:12:18 WARN MemoryStore: Not enough space to cache rdd_1008_3 in memory! (computed 32.2 MiB so far)\n",
      "25/03/08 17:12:18 WARN BlockManager: Persisting block rdd_1008_3 to disk instead.\n",
      "25/03/08 17:12:18 WARN BlockManager: Persisting block rdd_1008_5 to disk instead.\n",
      "25/03/08 17:12:18 WARN BlockManager: Persisting block rdd_1008_7 to disk instead.\n",
      "25/03/08 17:12:18 WARN BlockManager: Persisting block rdd_1008_2 to disk instead.\n",
      "25/03/08 17:12:18 WARN MemoryStore: Not enough space to cache rdd_1008_1 in memory! (computed 32.2 MiB so far)\n",
      "25/03/08 17:12:18 WARN BlockManager: Persisting block rdd_1008_1 to disk instead.\n",
      "25/03/08 17:12:18 WARN MemoryStore: Not enough space to cache rdd_1008_4 in memory! (computed 32.2 MiB so far)\n",
      "25/03/08 17:12:18 WARN BlockManager: Persisting block rdd_1008_4 to disk instead.\n",
      "25/03/08 17:12:18 WARN MemoryStore: Not enough space to cache rdd_1008_6 in memory! (computed 32.2 MiB so far)\n",
      "25/03/08 17:12:18 WARN BlockManager: Persisting block rdd_1008_6 to disk instead.\n",
      "25/03/08 17:14:21 WARN MemoryStore: Not enough space to cache rdd_1090_5 in memory! (computed 9.0 MiB so far)\n",
      "25/03/08 17:14:21 WARN MemoryStore: Not enough space to cache rdd_1090_2 in memory! (computed 9.0 MiB so far)\n",
      "25/03/08 17:14:21 WARN MemoryStore: Not enough space to cache rdd_1090_1 in memory! (computed 9.0 MiB so far)\n",
      "25/03/08 17:14:21 WARN BlockManager: Persisting block rdd_1090_2 to disk instead.\n",
      "25/03/08 17:14:21 WARN BlockManager: Persisting block rdd_1090_1 to disk instead.\n",
      "25/03/08 17:14:21 WARN BlockManager: Persisting block rdd_1090_5 to disk instead.\n",
      "25/03/08 17:14:21 WARN MemoryStore: Not enough space to cache rdd_1090_6 in memory! (computed 9.0 MiB so far)\n",
      "25/03/08 17:14:21 WARN BlockManager: Persisting block rdd_1090_6 to disk instead.\n",
      "25/03/08 17:14:21 WARN MemoryStore: Not enough space to cache rdd_1090_0 in memory! (computed 21.1 MiB so far)\n",
      "25/03/08 17:14:21 WARN BlockManager: Persisting block rdd_1090_0 to disk instead.\n",
      "25/03/08 17:14:23 WARN MemoryStore: Not enough space to cache rdd_1090_7 in memory! (computed 32.2 MiB so far)\n",
      "25/03/08 17:14:23 WARN BlockManager: Persisting block rdd_1090_7 to disk instead.\n",
      "25/03/08 17:14:24 WARN MemoryStore: Not enough space to cache rdd_1090_4 in memory! (computed 32.2 MiB so far)\n",
      "25/03/08 17:14:24 WARN BlockManager: Persisting block rdd_1090_4 to disk instead.\n",
      "25/03/08 17:14:28 WARN MemoryStore: Not enough space to cache rdd_1090_5 in memory! (computed 48.3 MiB so far)\n",
      "25/03/08 17:14:28 WARN MemoryStore: Not enough space to cache rdd_1090_7 in memory! (computed 48.3 MiB so far)\n",
      "25/03/08 17:14:28 WARN MemoryStore: Not enough space to cache rdd_1090_2 in memory! (computed 48.3 MiB so far)\n",
      "25/03/08 17:14:28 WARN MemoryStore: Not enough space to cache rdd_1090_6 in memory! (computed 48.3 MiB so far)\n",
      "25/03/08 17:14:28 WARN MemoryStore: Not enough space to cache rdd_1090_4 in memory! (computed 48.3 MiB so far)\n",
      "25/03/08 17:14:41 WARN MemoryStore: Not enough space to cache rdd_1090_7 in memory! (computed 48.3 MiB so far)\n",
      "25/03/08 17:14:41 WARN MemoryStore: Not enough space to cache rdd_1090_6 in memory! (computed 48.3 MiB so far)\n",
      "25/03/08 17:14:41 WARN MemoryStore: Not enough space to cache rdd_1090_2 in memory! (computed 48.3 MiB so far)\n",
      "25/03/08 17:14:41 WARN MemoryStore: Not enough space to cache rdd_1090_4 in memory! (computed 48.3 MiB so far)\n",
      "25/03/08 17:14:41 WARN MemoryStore: Not enough space to cache rdd_1090_5 in memory! (computed 48.3 MiB so far)\n",
      "25/03/08 17:14:59 WARN MemoryStore: Not enough space to cache rdd_1090_2 in memory! (computed 48.3 MiB so far)\n",
      "25/03/08 17:14:59 WARN MemoryStore: Not enough space to cache rdd_1090_7 in memory! (computed 48.3 MiB so far)\n",
      "25/03/08 17:14:59 WARN MemoryStore: Not enough space to cache rdd_1090_5 in memory! (computed 48.3 MiB so far)\n",
      "25/03/08 17:14:59 WARN MemoryStore: Not enough space to cache rdd_1090_6 in memory! (computed 48.3 MiB so far)\n",
      "25/03/08 17:14:59 WARN MemoryStore: Not enough space to cache rdd_1090_4 in memory! (computed 48.3 MiB so far)\n",
      "25/03/08 17:15:12 WARN MemoryStore: Not enough space to cache rdd_1090_6 in memory! (computed 48.3 MiB so far)\n",
      "25/03/08 17:15:12 WARN MemoryStore: Not enough space to cache rdd_1090_4 in memory! (computed 48.3 MiB so far)\n",
      "25/03/08 17:15:12 WARN MemoryStore: Not enough space to cache rdd_1090_2 in memory! (computed 48.3 MiB so far)\n",
      "25/03/08 17:15:12 WARN MemoryStore: Not enough space to cache rdd_1090_5 in memory! (computed 48.3 MiB so far)\n",
      "25/03/08 17:15:12 WARN MemoryStore: Not enough space to cache rdd_1090_7 in memory! (computed 48.3 MiB so far)\n",
      "25/03/08 17:15:30 WARN MemoryStore: Not enough space to cache rdd_1090_7 in memory! (computed 48.3 MiB so far)\n",
      "25/03/08 17:15:30 WARN MemoryStore: Not enough space to cache rdd_1090_6 in memory! (computed 48.3 MiB so far)\n",
      "25/03/08 17:15:30 WARN MemoryStore: Not enough space to cache rdd_1090_4 in memory! (computed 48.3 MiB so far)\n",
      "25/03/08 17:15:30 WARN MemoryStore: Not enough space to cache rdd_1090_5 in memory! (computed 48.3 MiB so far)\n",
      "25/03/08 17:15:30 WARN MemoryStore: Not enough space to cache rdd_1090_2 in memory! (computed 48.3 MiB so far)\n",
      "25/03/08 17:16:07 WARN InstanceBuilder: Failed to load implementation from:dev.ludovic.netlib.blas.JNIBLAS\n",
      "25/03/08 17:16:07 WARN InstanceBuilder: Failed to load implementation from:dev.ludovic.netlib.blas.VectorBLAS\n",
      "25/03/08 17:16:25 WARN MemoryStore: Not enough space to cache rdd_1139_7 in memory! (computed 17.0 MiB so far)\n",
      "25/03/08 17:16:25 WARN MemoryStore: Not enough space to cache rdd_1139_1 in memory! (computed 17.0 MiB so far)\n",
      "25/03/08 17:16:25 WARN MemoryStore: Not enough space to cache rdd_1139_3 in memory! (computed 17.0 MiB so far)\n",
      "25/03/08 17:16:25 WARN BlockManager: Persisting block rdd_1139_7 to disk instead.\n",
      "25/03/08 17:16:25 WARN BlockManager: Persisting block rdd_1139_3 to disk instead.\n",
      "25/03/08 17:16:25 WARN BlockManager: Persisting block rdd_1139_1 to disk instead.\n",
      "25/03/08 17:16:25 WARN MemoryStore: Not enough space to cache rdd_1139_5 in memory! (computed 17.0 MiB so far)\n",
      "25/03/08 17:16:25 WARN BlockManager: Persisting block rdd_1139_5 to disk instead.\n",
      "25/03/08 17:16:25 WARN MemoryStore: Not enough space to cache rdd_1139_4 in memory! (computed 17.0 MiB so far)\n",
      "25/03/08 17:16:25 WARN BlockManager: Persisting block rdd_1139_4 to disk instead.\n",
      "                                                                                \r"
     ]
    }
   ],
   "source": [
    "# 9️⃣ Entraîner les modèles\n",
    "rf_model = crossval.fit(train_data)\n",
    "lr_model = lr.fit(train_data)\n",
    "gbt_model = gbt.fit(train_data)"
   ]
  },
  {
   "cell_type": "code",
   "execution_count": 15,
   "metadata": {},
   "outputs": [
    {
     "name": "stderr",
     "output_type": "stream",
     "text": [
      "                                                                                \r"
     ]
    },
    {
     "name": "stdout",
     "output_type": "stream",
     "text": [
      "AUC (Random Forest) : 0.7427\n",
      "AUC (Logistic Regression) : 0.6843\n",
      "AUC (Gradient Boosting) : 0.7959\n"
     ]
    }
   ],
   "source": [
    "# 🔟 Évaluer les modèles sur le jeu de validation\n",
    "rf_auc = evaluator.evaluate(rf_model.transform(val_data))\n",
    "lr_auc = evaluator.evaluate(lr_model.transform(val_data))\n",
    "gbt_auc = evaluator.evaluate(gbt_model.transform(val_data))\n",
    "\n",
    "print(f\"AUC (Random Forest) : {rf_auc:.4f}\")\n",
    "print(f\"AUC (Logistic Regression) : {lr_auc:.4f}\")\n",
    "print(f\"AUC (Gradient Boosting) : {gbt_auc:.4f}\")"
   ]
  },
  {
   "cell_type": "code",
   "execution_count": 16,
   "metadata": {},
   "outputs": [
    {
     "name": "stderr",
     "output_type": "stream",
     "text": [
      "                                                                                \r"
     ]
    }
   ],
   "source": [
    "# 🔟 Enregistrer le meilleur modèle\n",
    "best_model = rf_model.bestModel\n",
    "best_model.write().overwrite().save(\"best_rf_model\")"
   ]
  },
  {
   "cell_type": "code",
   "execution_count": 17,
   "metadata": {},
   "outputs": [
    {
     "name": "stderr",
     "output_type": "stream",
     "text": [
      "[Stage 968:==============>                                          (2 + 6) / 8]\r"
     ]
    },
    {
     "name": "stdout",
     "output_type": "stream",
     "text": [
      "AUC sur le test (Meilleur Random Forest) : 0.7427\n"
     ]
    },
    {
     "name": "stderr",
     "output_type": "stream",
     "text": [
      "                                                                                \r"
     ]
    }
   ],
   "source": [
    "# 🚀 Tester le meilleur modèle sur le jeu de test\n",
    "test_results = best_model.transform(test_df)\n",
    "test_auc = evaluator.evaluate(test_results)\n",
    "print(f\"AUC sur le test (Meilleur Random Forest) : {test_auc:.4f}\")\n"
   ]
  },
  {
   "cell_type": "code",
   "execution_count": 18,
   "metadata": {},
   "outputs": [],
   "source": [
    "# 📌 Fermer Spark\n",
    "spark.stop()"
   ]
  }
 ],
 "metadata": {
  "kernelspec": {
   "display_name": "Python 3",
   "language": "python",
   "name": "python3"
  },
  "language_info": {
   "codemirror_mode": {
    "name": "ipython",
    "version": 3
   },
   "file_extension": ".py",
   "mimetype": "text/x-python",
   "name": "python",
   "nbconvert_exporter": "python",
   "pygments_lexer": "ipython3",
   "version": "3.9.6"
  }
 },
 "nbformat": 4,
 "nbformat_minor": 2
}
